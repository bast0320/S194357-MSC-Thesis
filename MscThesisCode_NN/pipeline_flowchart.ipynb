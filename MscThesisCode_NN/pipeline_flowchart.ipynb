{
 "cells": [
  {
   "cell_type": "code",
   "execution_count": 2,
   "metadata": {},
   "outputs": [
    {
     "data": {
      "text/plain": [
       "'pipeline_flowchart.png'"
      ]
     },
     "execution_count": 2,
     "metadata": {},
     "output_type": "execute_result"
    }
   ],
   "source": [
    "import graphviz\n",
    "\n",
    "# Define the flowchart\n",
    "flowchart = graphviz.Digraph(comment='Pipeline', format='png')\n",
    "flowchart.attr(rankdir='LR')\n",
    "\n",
    "# Nodes\n",
    "flowchart.node('A', 'Load Data')\n",
    "flowchart.node('B', 'Train Model\\n(80% Data)')\n",
    "flowchart.node('C', 'Correct Ensembles')\n",
    "flowchart.node('D', 'Run TAQR Algo')\n",
    "flowchart.node('E', 'Calculate Scores\\n(QSS, CRPS, Variogram)')\n",
    "flowchart.node('F', 'Save Results')\n",
    "flowchart.node('G', 'Repeat for All Data Sources')\n",
    "flowchart.node('H', 'Analyze Results')\n",
    "\n",
    "# Edges\n",
    "flowchart.edges(['AB', 'CD', 'DE', 'EF', 'FG', 'GH'])\n",
    "\n",
    "# Switch between LSTM and FFNN\n",
    "flowchart.node('B1', 'Train FFNN Model', shape='box')\n",
    "flowchart.node('B2', 'Train LSTM Model', shape='box')\n",
    "flowchart.edge('B', 'B1', label='FFNN')\n",
    "flowchart.edge('B', 'B2', label='LSTM')\n",
    "flowchart.edge('B1', 'C')\n",
    "flowchart.edge('B2', 'C')\n",
    "\n",
    "# Render the flowchart\n",
    "flowchart.render('pipeline_flowchart')"
   ]
  },
  {
   "cell_type": "code",
   "execution_count": 3,
   "metadata": {},
   "outputs": [
    {
     "name": "stderr",
     "output_type": "stream",
     "text": [
      "lib/pathplan/shortest.c:339: triangulation failed\n",
      "lib/pathplan/shortest.c:207: cannot find triangle path\n"
     ]
    },
    {
     "data": {
      "text/plain": [
       "'pipeline_flowchart_vertical.png'"
      ]
     },
     "execution_count": 3,
     "metadata": {},
     "output_type": "execute_result"
    }
   ],
   "source": [
    "import graphviz\n",
    "\n",
    "# Define the flowchart\n",
    "flowchart = graphviz.Digraph(comment='Pipeline', format='png')\n",
    "flowchart.attr(rankdir='TB')  # Change direction to top-to-bottom\n",
    "\n",
    "# Nodes\n",
    "flowchart.node('A', 'Load Data')\n",
    "flowchart.node('B', 'Train Model\\n(80% Data)')\n",
    "flowchart.node('C', 'Correct Ensembles')\n",
    "flowchart.node('D', 'Run TAQR Algo')\n",
    "flowchart.node('E', 'Calculate Scores\\n(QSS, CRPS, Variogram)')\n",
    "flowchart.node('F', 'Save Results')\n",
    "flowchart.node('G', 'Repeat for All Data Sources')\n",
    "flowchart.node('H', 'Analyze Results')\n",
    "\n",
    "# Edges\n",
    "flowchart.edges(['AB', 'CD', 'DE', 'EF', 'FG', 'GH'])\n",
    "\n",
    "# Switch between LSTM and FFNN\n",
    "flowchart.node('I', 'Model Type?', shape='diamond')\n",
    "flowchart.node('B1', 'Train FFNN Model', shape='box')\n",
    "flowchart.node('B2', 'Train LSTM Model', shape='box')\n",
    "\n",
    "flowchart.edge('B', 'I')\n",
    "flowchart.edge('I', 'B1', label='FFNN')\n",
    "flowchart.edge('I', 'B2', label='LSTM')\n",
    "flowchart.edge('B1', 'C')\n",
    "flowchart.edge('B2', 'C')\n",
    "\n",
    "# Render the flowchart\n",
    "flowchart.render('pipeline_flowchart_vertical')"
   ]
  },
  {
   "cell_type": "code",
   "execution_count": 5,
   "metadata": {},
   "outputs": [
    {
     "name": "stderr",
     "output_type": "stream",
     "text": [
      "Warning: using box for unknown shape manual\n"
     ]
    },
    {
     "data": {
      "text/plain": [
       "'pipeline_detailed_flowchart.png'"
      ]
     },
     "execution_count": 5,
     "metadata": {},
     "output_type": "execute_result"
    }
   ],
   "source": [
    "import graphviz\n",
    "\n",
    "# Define the detailed flowchart\n",
    "detailed_flowchart = graphviz.Digraph(comment='Detailed Pipeline', format='png')\n",
    "detailed_flowchart.attr(rankdir='TB')  # Top to Bottom\n",
    "\n",
    "# Nodes\n",
    "detailed_flowchart.node('Start', 'Start', shape='oval')\n",
    "detailed_flowchart.node('LoadData', 'Load Data\\n(data_area, type)', shape='parallelogram')\n",
    "detailed_flowchart.node('Decision', 'Model Type?', shape='diamond')\n",
    "detailed_flowchart.node('TrainFFNN', 'Train FFNN Model\\n(80% Data)', shape='box')\n",
    "detailed_flowchart.node('TrainLSTM', 'Train LSTM Model\\n(80% Data)', shape='box')\n",
    "detailed_flowchart.node('CorrectEnsembles', 'Correct Ensembles', shape='box')\n",
    "detailed_flowchart.node('RunTAQR', 'Run TAQR Algo', shape='box')\n",
    "detailed_flowchart.node('CalculateScores', 'Calculate Scores\\n(QSS, CRPS, Variogram)', shape='box')\n",
    "detailed_flowchart.node('SaveResults', 'Save Results', shape='box')\n",
    "detailed_flowchart.node('Repeat', 'Repeat for All Data Sources', shape='manual')\n",
    "detailed_flowchart.node('Analyze', 'Analyze Results', shape='box')\n",
    "detailed_flowchart.node('End', 'End', shape='oval')\n",
    "\n",
    "# Edges\n",
    "detailed_flowchart.edge('Start', 'LoadData')\n",
    "detailed_flowchart.edge('LoadData', 'Decision')\n",
    "detailed_flowchart.edge('Decision', 'TrainFFNN', label='FFNN')\n",
    "detailed_flowchart.edge('Decision', 'TrainLSTM', label='LSTM')\n",
    "detailed_flowchart.edge('TrainFFNN', 'CorrectEnsembles')\n",
    "detailed_flowchart.edge('TrainLSTM', 'CorrectEnsembles')\n",
    "detailed_flowchart.edge('CorrectEnsembles', 'RunTAQR')\n",
    "detailed_flowchart.edge('RunTAQR', 'CalculateScores')\n",
    "detailed_flowchart.edge('CalculateScores', 'SaveResults')\n",
    "detailed_flowchart.edge('SaveResults', 'Repeat')\n",
    "detailed_flowchart.edge('Repeat', 'Analyze')\n",
    "detailed_flowchart.edge('Analyze', 'End')\n",
    "\n",
    "# Render the flowchart\n",
    "detailed_flowchart.render('pipeline_detailed_flowchart')"
   ]
  },
  {
   "cell_type": "code",
   "execution_count": 3,
   "metadata": {},
   "outputs": [
    {
     "data": {
      "text/plain": [
       "'pipeline_expanded_detailed_pipeline_flowchart.pdf'"
      ]
     },
     "execution_count": 3,
     "metadata": {},
     "output_type": "execute_result"
    }
   ],
   "source": [
    "import graphviz\n",
    "\n",
    "# Define the detailed flowchart\n",
    "expanded_flowchart = graphviz.Digraph(comment='Expanded Detailed Pipeline', format='pdf')\n",
    "expanded_flowchart.attr(rankdir='TB')  # Top to Bottom\n",
    "\n",
    "# Main Nodes\n",
    "expanded_flowchart.node('Start', 'Start', shape='oval')\n",
    "expanded_flowchart.node('LoadData', 'Load Data\\n(data_area, type)', shape='parallelogram')\n",
    "expanded_flowchart.node('Decision', 'Model Type?', shape='diamond')\n",
    "expanded_flowchart.node('TrainFFNN', 'Train FFNN Model\\n(80% Data)', shape='box')\n",
    "expanded_flowchart.node('TrainLSTM', 'Train LSTM Model\\n(80% Data)', shape='box')\n",
    "expanded_flowchart.node('CorrectEnsembles', 'Correct Ensembles', shape='box')\n",
    "# expanded_flowchart.node('RunTAQR', 'Run TAQR Algo', shape='box')\n",
    "expanded_flowchart.node('RunTAQR', 'Run TAQR Algo', shape='box', style='filled, rounded', color='lightgrey')\n",
    "expanded_flowchart.node('CalculateScores', 'Calculate Scores\\n(QSS, CRPS, Variogram)', shape='box')\n",
    "expanded_flowchart.node('SaveResults', 'Save Results and Model', shape='box')\n",
    "expanded_flowchart.node('Repeat', 'Repeat for All Data Sources', shape='box')\n",
    "expanded_flowchart.node('Analyze', 'Analyze Results', shape='box')\n",
    "expanded_flowchart.node('End', 'End', shape='oval')\n",
    "expanded_flowchart.node(\"InputTimeSteps\", \"Input Timesteps\", shape='box')\n",
    "\n",
    "\n",
    "# Edges for main flow\n",
    "expanded_flowchart.edge('Start', 'LoadData')\n",
    "# expanded_flowchart.edge('LoadData', 'Decision')\n",
    "expanded_flowchart.edge('Decision', 'TrainFFNN', label='FFNN')\n",
    "expanded_flowchart.edge('Decision', 'TrainLSTM', label='LSTM')\n",
    "expanded_flowchart.edge('TrainLSTM', 'InputTimeSteps')\n",
    "expanded_flowchart.edge('InputTimeSteps', 'PreprocessLSTM')\n",
    "expanded_flowchart.edge('SaveResults', 'Repeat')\n",
    "expanded_flowchart.edge('Repeat', 'Analyze')\n",
    "expanded_flowchart.edge('Analyze', 'End')\n",
    "\n",
    "# Detailed steps for Load Data\n",
    "expanded_flowchart.node('LoadDataDetail', 'Load Data Details', shape='box')\n",
    "expanded_flowchart.edge('LoadData', 'LoadDataDetail')\n",
    "expanded_flowchart.edge('LoadDataDetail', 'Decision')\n",
    "\n",
    "# Detailed steps for Train FFNN Model\n",
    "expanded_flowchart.node('PreprocessFFNN', 'Preprocess Data (FFNN)', shape='box')\n",
    "expanded_flowchart.node('DefineQuantilesFFNN', 'Define All 50 Quantiles (FFNN)', shape='box')\n",
    "expanded_flowchart.edge('TrainFFNN', 'PreprocessFFNN')\n",
    "expanded_flowchart.edge('PreprocessFFNN', 'DefineQuantilesFFNN')\n",
    "expanded_flowchart.edge('DefineQuantilesFFNN', 'TrainModel')\n",
    "\n",
    "# Detailed steps for Train LSTM Model\n",
    "expanded_flowchart.node('PreprocessLSTM', 'Preprocess Data \\n With Lags (LSTM)', shape='box')\n",
    "expanded_flowchart.node('DefineQuantilesLSTM', 'Define 20 Quantiles (LSTM)', shape='box')\n",
    "expanded_flowchart.node('TrainModel', 'Train Model', shape='box')\n",
    "# expanded_flowchart.edge('TrainLSTM', 'PreprocessLSTM')\n",
    "expanded_flowchart.edge('PreprocessLSTM', 'DefineQuantilesLSTM')\n",
    "expanded_flowchart.edge('DefineQuantilesLSTM', 'TrainModel')\n",
    "expanded_flowchart.edge('TrainModel', 'CorrectEnsembles')\n",
    "\n",
    "# Detailed steps for Correct Ensembles\n",
    "expanded_flowchart.node('ConvertTensor', 'Convert to Tensor', shape='box')\n",
    "expanded_flowchart.node('UseTrainedModel', 'Use Trained Model', shape='box')\n",
    "expanded_flowchart.edge('CorrectEnsembles', 'ConvertTensor')\n",
    "expanded_flowchart.edge('ConvertTensor', 'UseTrainedModel')\n",
    "expanded_flowchart.edge('UseTrainedModel', 'RunTAQR')\n",
    "\n",
    "# Detailed steps for Run TAQR Algo\n",
    "expanded_flowchart.node('CleanNaNs', 'Clean NaNs', shape='box')\n",
    "expanded_flowchart.node('LoopQuantiles', 'Loop for Quantiles', shape='box')\n",
    "expanded_flowchart.edge('RunTAQR', 'CleanNaNs')\n",
    "expanded_flowchart.edge('CleanNaNs', 'LoopQuantiles')\n",
    "expanded_flowchart.edge('LoopQuantiles', 'CalculateScores')\n",
    "\n",
    "expanded_flowchart.edge('CalculateScores', 'SaveResults')\n",
    "\n",
    "expanded_flowchart.edge('Repeat', 'LoadData', label='Next Data Source')\n",
    "\n",
    "# Render the expanded detailed flowchart\n",
    "expanded_flowchart.render('pipeline_expanded_detailed_pipeline_flowchart')"
   ]
  }
 ],
 "metadata": {
  "kernelspec": {
   "display_name": ".venv",
   "language": "python",
   "name": "python3"
  },
  "language_info": {
   "codemirror_mode": {
    "name": "ipython",
    "version": 3
   },
   "file_extension": ".py",
   "mimetype": "text/x-python",
   "name": "python",
   "nbconvert_exporter": "python",
   "pygments_lexer": "ipython3",
   "version": "3.12.3"
  }
 },
 "nbformat": 4,
 "nbformat_minor": 2
}
