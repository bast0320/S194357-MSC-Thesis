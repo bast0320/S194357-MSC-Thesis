{
 "cells": [
  {
   "cell_type": "code",
   "execution_count": 1,
   "metadata": {},
   "outputs": [],
   "source": [
    "# let us read in the ensembles before and after correction DK1_OnshoreWindPower_lstm_corrected_ensembles.npy\n",
    "import numpy as np\n",
    "area = \"DK1\"\n",
    "type_ = \"OnshoreWindPower\"\n",
    "\n",
    "corrected_ensembles = np.load(f\"results/{area}_{type_}_lstm_corrected_ensembles.npy\")\n",
    "\n",
    "# read in before corrections\n",
    "import pickle\n",
    "with open(f\"loaded_variables/ensembles_wind_onshore_DK1.pkl\", \"rb\") as f:\n",
    "    original_ensembles = pickle.load(f)\n",
    "\n",
    "# load the actuals\n",
    "with open(f\"loaded_variables/actuals_hourly_DK1.pkl\", \"rb\") as f:\n",
    "    actuals = pickle.load(f)\n",
    "\n",
    "\n",
    "actuals = actuals[~actuals.index.duplicated(keep='first')]\n",
    "# keep only the col \"OnshoreWindPower\" from actuals\n",
    "actuals = actuals[[type_]]"
   ]
  },
  {
   "cell_type": "code",
   "execution_count": null,
   "metadata": {},
   "outputs": [],
   "source": []
  }
 ],
 "metadata": {
  "kernelspec": {
   "display_name": ".venv",
   "language": "python",
   "name": "python3"
  },
  "language_info": {
   "codemirror_mode": {
    "name": "ipython",
    "version": 3
   },
   "file_extension": ".py",
   "mimetype": "text/x-python",
   "name": "python",
   "nbconvert_exporter": "python",
   "pygments_lexer": "ipython3",
   "version": "3.12.3"
  }
 },
 "nbformat": 4,
 "nbformat_minor": 2
}
